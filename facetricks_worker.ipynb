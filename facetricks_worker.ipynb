{
  "nbformat": 4,
  "nbformat_minor": 0,
  "metadata": {
    "colab": {
      "name": "facetricks-worker.ipynb",
      "provenance": [],
      "collapsed_sections": []
    },
    "kernelspec": {
      "name": "python3",
      "display_name": "Python 3"
    }
  },
  "cells": [
    {
      "cell_type": "code",
      "metadata": {
        "id": "n8m-7EJmUOkZ",
        "colab_type": "code",
        "colab": {}
      },
      "source": [
        "from google.colab import drive\n",
        "drive.mount('/content/drive', force_remount=True)\n",
        "\n",
        "!mkdir -p /drive\n",
        "#umount /drive\n",
        "!mount --bind /content/drive/My\\ Drive /drive"
      ],
      "execution_count": 0,
      "outputs": []
    },
    {
      "cell_type": "code",
      "metadata": {
        "id": "Tn4QXGtuUbgp",
        "colab_type": "code",
        "colab": {}
      },
      "source": [
        "!git clone https://github.com/shawwn/pymen /content/pymen\n",
        "%cd /content/pymen\n",
        "!git pull\n",
        "import os\n",
        "os.environ['PATH'] += \":/content/pymen/bin\"\n",
        "!chmod +x /content/pymen/bin/pymen\n",
        "\n",
        "!git clone https://github.com/shawwn/stylegan-server /content/stylegan-server\n",
        "%cd /content/stylegan-server\n",
        "!git pull\n",
        "!pip install redis hiredis\n",
        "import os\n",
        "os.environ['REDIS_URL']='YOUR_HEROKU_REDIS_URL'\n",
        "\n",
        "!pymen -e '(while true (load \"encoder.l\") (process-items))'"
      ],
      "execution_count": 0,
      "outputs": []
    },
    {
      "cell_type": "code",
      "metadata": {
        "id": "0ftGiOqYUjXT",
        "colab_type": "code",
        "colab": {}
      },
      "source": [
        ""
      ],
      "execution_count": 0,
      "outputs": []
    }
  ]
}
